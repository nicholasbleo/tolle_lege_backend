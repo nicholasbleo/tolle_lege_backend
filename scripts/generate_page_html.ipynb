{
 "cells": [
  {
   "cell_type": "code",
   "execution_count": 1,
   "metadata": {},
   "outputs": [],
   "source": [
    "import json"
   ]
  },
  {
   "cell_type": "code",
   "execution_count": 2,
   "metadata": {},
   "outputs": [],
   "source": [
    "book_dir = 'vulgate'\n",
    "page_dir = 'mark_1'"
   ]
  },
  {
   "cell_type": "code",
   "execution_count": 3,
   "metadata": {},
   "outputs": [],
   "source": [
    "with open(f'../texts/{book_dir}/{page_dir}/json_data.json') as f:\n",
    "    page_data = json.load(f)"
   ]
  },
  {
   "cell_type": "code",
   "execution_count": 4,
   "metadata": {},
   "outputs": [],
   "source": [
    "book_html = '<i>The Vulgate Bible</i> by God'\n",
    "passage_html = 'The Gospel According to Mark, Chapter 1'\n",
    "\n",
    "header_html = f'''{{% extends \"base.html\" %}}\n",
    "\n",
    "{{% block page_header %}}\n",
    "<div class=\"passage-source\">\n",
    "    {book_html}\n",
    "</div>\n",
    "<div class=\"passage-name\">\n",
    "    {passage_html}\n",
    "</div>\n",
    "{{% endblock %}}\n",
    "\n",
    "{{% block page_content %}}\n",
    "'''"
   ]
  },
  {
   "cell_type": "code",
   "execution_count": 5,
   "metadata": {},
   "outputs": [],
   "source": [
    "span_template = '<span id=\"{}\" onclick=\"getWordData(this)\">{}</span>'\n",
    "html_list = []"
   ]
  },
  {
   "cell_type": "code",
   "execution_count": 6,
   "metadata": {},
   "outputs": [],
   "source": [
    "for i, data in enumerate(page_data, 1):\n",
    "    if page_data[str(i)]['word_data'] != 'punct':\n",
    "        word = page_data[str(i)]['word']\n",
    "        span = span_template.format(i, word)\n",
    "        html_list.append(span)\n",
    "    else:\n",
    "        punct = page_data[str(i)]['word']\n",
    "        html_list[-1] += (punct)"
   ]
  },
  {
   "cell_type": "code",
   "execution_count": 7,
   "metadata": {},
   "outputs": [],
   "source": [
    "html_list = [x + '\\n' for x in html_list]"
   ]
  },
  {
   "cell_type": "code",
   "execution_count": 8,
   "metadata": {},
   "outputs": [],
   "source": [
    "with open(f'../texts/{book_dir}/{page_dir}/html_data.html', 'w') as f:\n",
    "    f.write(header_html)\n",
    "    f.writelines(html_list)\n",
    "    f.write('{% endblock %}')"
   ]
  }
 ],
 "metadata": {
  "kernelspec": {
   "display_name": "venv",
   "language": "python",
   "name": "python3"
  },
  "language_info": {
   "codemirror_mode": {
    "name": "ipython",
    "version": 3
   },
   "file_extension": ".py",
   "mimetype": "text/x-python",
   "name": "python",
   "nbconvert_exporter": "python",
   "pygments_lexer": "ipython3",
   "version": "3.9.9"
  },
  "orig_nbformat": 4,
  "vscode": {
   "interpreter": {
    "hash": "b5d3d56ccf465c67d9d591b66c55d1df79c818d101027c86ec4466d3e869905e"
   }
  }
 },
 "nbformat": 4,
 "nbformat_minor": 2
}
