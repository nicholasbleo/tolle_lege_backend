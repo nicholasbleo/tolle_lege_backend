{
 "cells": [
  {
   "cell_type": "code",
   "execution_count": 1,
   "metadata": {},
   "outputs": [],
   "source": [
    "import requests\n",
    "import re\n",
    "import time\n",
    "import json\n",
    "from tqdm import tqdm"
   ]
  },
  {
   "cell_type": "code",
   "execution_count": 2,
   "metadata": {},
   "outputs": [],
   "source": [
    "book_dir = 'vulgate'\n",
    "page_dir = 'mark_1'"
   ]
  },
  {
   "cell_type": "code",
   "execution_count": 3,
   "metadata": {},
   "outputs": [],
   "source": [
    "def parse_text(text):\n",
    "    lines = []\n",
    "    text = re.split('\\.|\\?|\\!|\\:|\\;|\\,', text)\n",
    "    \n",
    "    for line in text:\n",
    "        line = line.split(' ')\n",
    "        line = [word for word in line if word != '']\n",
    "        lines.append(line)\n",
    "\n",
    "    lines.remove([])\n",
    "    return lines"
   ]
  },
  {
   "cell_type": "code",
   "execution_count": 4,
   "metadata": {},
   "outputs": [],
   "source": [
    "def get_punct_marks(text):\n",
    "    punct_marks = [char for char in text if char not in 'abcdefghijklmnopqurstuvwxyzABCDEFGHIJKLMNOPQURSTUVWXYZ[]()123456789']\n",
    "    punct_marks = [p for p in punct_marks if p != ' ']\n",
    "    return punct_marks"
   ]
  },
  {
   "cell_type": "code",
   "execution_count": 5,
   "metadata": {},
   "outputs": [],
   "source": [
    "def get_whitakers_data(word):\n",
    "    r = requests.get(f'https://latin-words.com/cgi-bin/translate.cgi?query={word}')\n",
    "    parsed_response = r.json()['message'].split('\\n')\n",
    "    parsed_response = [x.strip() for x in parsed_response if x != '']\n",
    "    return parsed_response"
   ]
  },
  {
   "cell_type": "code",
   "execution_count": 6,
   "metadata": {},
   "outputs": [],
   "source": [
    "with open(f'../texts/{book_dir}/{page_dir}/text_data.txt', 'r') as f:\n",
    "    text_data = f.read()"
   ]
  },
  {
   "cell_type": "code",
   "execution_count": 7,
   "metadata": {},
   "outputs": [],
   "source": [
    "parsed_text = parse_text(text_data)\n",
    "punct_marks = get_punct_marks(text_data)"
   ]
  },
  {
   "cell_type": "code",
   "execution_count": 8,
   "metadata": {},
   "outputs": [
    {
     "name": "stderr",
     "output_type": "stream",
     "text": [
      "29it [02:39,  5.50s/it]\n"
     ]
    }
   ],
   "source": [
    "page_obj = {}\n",
    "counter = 1\n",
    "for line, punct in tqdm(zip(parsed_text, punct_marks)):\n",
    "    for word in line:\n",
    "        word = word.translate({ord(x): None for x in '[]()123456789'})\n",
    "        if word != '':\n",
    "            word_data = get_whitakers_data(word)\n",
    "            time.sleep(.5)\n",
    "            page_obj[counter] = {\n",
    "                \"word\": word,\n",
    "                \"word_data\": word_data\n",
    "            }\n",
    "            counter += 1\n",
    "    page_obj[counter] = {\n",
    "        \"word\": punct,\n",
    "        \"word_data\": \"punct\"\n",
    "    }\n",
    "    counter += 1"
   ]
  },
  {
   "cell_type": "code",
   "execution_count": 9,
   "metadata": {},
   "outputs": [],
   "source": [
    "with open(f'../texts/{book_dir}/{page_dir}/json_data.json', 'w') as outfile:\n",
    "    json.dump(page_obj, outfile)"
   ]
  }
 ],
 "metadata": {
  "kernelspec": {
   "display_name": "Python 3.9.9 ('venv': venv)",
   "language": "python",
   "name": "python3"
  },
  "language_info": {
   "codemirror_mode": {
    "name": "ipython",
    "version": 3
   },
   "file_extension": ".py",
   "mimetype": "text/x-python",
   "name": "python",
   "nbconvert_exporter": "python",
   "pygments_lexer": "ipython3",
   "version": "3.9.9"
  },
  "orig_nbformat": 4,
  "vscode": {
   "interpreter": {
    "hash": "1f976362df0aef6293e844201cb42e848985f8fbbbaf3a7af5ce88a81d6f9da3"
   }
  }
 },
 "nbformat": 4,
 "nbformat_minor": 2
}
